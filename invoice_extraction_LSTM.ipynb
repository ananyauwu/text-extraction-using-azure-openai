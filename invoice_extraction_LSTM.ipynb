{
  "nbformat": 4,
  "nbformat_minor": 0,
  "metadata": {
    "colab": {
      "provenance": []
    },
    "kernelspec": {
      "name": "python3",
      "display_name": "Python 3"
    },
    "language_info": {
      "name": "python"
    }
  },
  "cells": [
    {
      "cell_type": "code",
      "execution_count": null,
      "metadata": {
        "colab": {
          "base_uri": "https://localhost:8080/"
        },
        "id": "saePgB1P-WlC",
        "outputId": "80c48458-7445-4ae5-e80b-2d260c2b0be3"
      },
      "outputs": [
        {
          "output_type": "stream",
          "name": "stdout",
          "text": [
            "Collecting pdfplumber\n",
            "  Downloading pdfplumber-0.10.2-py3-none-any.whl (47 kB)\n",
            "\u001b[?25l     \u001b[90m━━━━━━━━━━━━━━━━━━━━━━━━━━━━━━━━━━━━━━━━\u001b[0m \u001b[32m0.0/47.5 kB\u001b[0m \u001b[31m?\u001b[0m eta \u001b[36m-:--:--\u001b[0m\r\u001b[2K     \u001b[90m━━━━━━━━━━━━━━━━━━━━━━━━━━━━━━━━━━━━━━━━\u001b[0m \u001b[32m47.5/47.5 kB\u001b[0m \u001b[31m1.3 MB/s\u001b[0m eta \u001b[36m0:00:00\u001b[0m\n",
            "\u001b[?25hCollecting pdfminer.six==20221105 (from pdfplumber)\n",
            "  Downloading pdfminer.six-20221105-py3-none-any.whl (5.6 MB)\n",
            "\u001b[2K     \u001b[90m━━━━━━━━━━━━━━━━━━━━━━━━━━━━━━━━━━━━━━━━\u001b[0m \u001b[32m5.6/5.6 MB\u001b[0m \u001b[31m45.5 MB/s\u001b[0m eta \u001b[36m0:00:00\u001b[0m\n",
            "\u001b[?25hRequirement already satisfied: Pillow>=9.1 in /usr/local/lib/python3.10/dist-packages (from pdfplumber) (9.4.0)\n",
            "Collecting pypdfium2>=4.18.0 (from pdfplumber)\n",
            "  Downloading pypdfium2-4.20.0-py3-none-manylinux_2_17_x86_64.whl (3.0 MB)\n",
            "\u001b[2K     \u001b[90m━━━━━━━━━━━━━━━━━━━━━━━━━━━━━━━━━━━━━━━━\u001b[0m \u001b[32m3.0/3.0 MB\u001b[0m \u001b[31m73.1 MB/s\u001b[0m eta \u001b[36m0:00:00\u001b[0m\n",
            "\u001b[?25hRequirement already satisfied: charset-normalizer>=2.0.0 in /usr/local/lib/python3.10/dist-packages (from pdfminer.six==20221105->pdfplumber) (3.3.0)\n",
            "Requirement already satisfied: cryptography>=36.0.0 in /usr/local/lib/python3.10/dist-packages (from pdfminer.six==20221105->pdfplumber) (41.0.4)\n",
            "Requirement already satisfied: cffi>=1.12 in /usr/local/lib/python3.10/dist-packages (from cryptography>=36.0.0->pdfminer.six==20221105->pdfplumber) (1.16.0)\n",
            "Requirement already satisfied: pycparser in /usr/local/lib/python3.10/dist-packages (from cffi>=1.12->cryptography>=36.0.0->pdfminer.six==20221105->pdfplumber) (2.21)\n",
            "Installing collected packages: pypdfium2, pdfminer.six, pdfplumber\n",
            "Successfully installed pdfminer.six-20221105 pdfplumber-0.10.2 pypdfium2-4.20.0\n"
          ]
        }
      ],
      "source": [
        "!pip install pdfplumber"
      ]
    },
    {
      "cell_type": "code",
      "source": [
        "import pdfplumber"
      ],
      "metadata": {
        "id": "S4HvA7-pfrGx"
      },
      "execution_count": null,
      "outputs": []
    },
    {
      "cell_type": "code",
      "source": [
        "import os"
      ],
      "metadata": {
        "id": "QDtF5KKwiK2d"
      },
      "execution_count": null,
      "outputs": []
    },
    {
      "cell_type": "code",
      "source": [
        "import tensorflow as tf\n",
        "from tensorflow.keras.preprocessing.text import Tokenizer\n",
        "from tensorflow.keras.preprocessing.sequence import pad_sequences\n",
        "from tensorflow.keras.models import Sequential, Model\n",
        "from tensorflow.keras.layers import Embedding, LSTM, Dense, Bidirectional, Input, Concatenate, Flatten\n",
        "from sklearn.model_selection import train_test_split"
      ],
      "metadata": {
        "id": "zCCsMh3ch1Ix"
      },
      "execution_count": null,
      "outputs": []
    },
    {
      "cell_type": "code",
      "source": [
        "pdf_folder= '/content/drive/MyDrive/invoices'"
      ],
      "metadata": {
        "id": "CHIUuKKEGnTF"
      },
      "execution_count": null,
      "outputs": []
    },
    {
      "cell_type": "code",
      "source": [
        "def clean_text(text):\n",
        "  text = text.replace(\"\\n\", \" \").strip()\n",
        "  return text"
      ],
      "metadata": {
        "id": "hV71kMOihMHu"
      },
      "execution_count": null,
      "outputs": []
    },
    {
      "cell_type": "code",
      "source": [
        "def extract_text(pdf_path):\n",
        "  text=\"\"\n",
        "  with pdfplumber.open(pdf_path) as pdf:\n",
        "    for page in pdf.pages:\n",
        "      page_text = page.extract_text()\n",
        "      if \"terms\" in page_text.lower():\n",
        "        text +=page_text\n",
        "        break\n",
        "      text += page_text\n",
        "  processed_text = clean_text(text)\n",
        "  return text"
      ],
      "metadata": {
        "id": "oa0kwnb2hYxU"
      },
      "execution_count": null,
      "outputs": []
    },
    {
      "cell_type": "code",
      "source": [
        "text_extracted =[]\n",
        "for filename in os.listdir(pdf_folder):\n",
        "    if filename.endswith('.pdf'):\n",
        "        pdf_path = os.path.join(pdf_folder, filename)\n",
        "        text_ex = extract_text(pdf_path)\n",
        "        text_extracted.append(text_ex)"
      ],
      "metadata": {
        "id": "862mcNUKhzHV"
      },
      "execution_count": null,
      "outputs": []
    },
    {
      "cell_type": "code",
      "source": [
        "text_extracted"
      ],
      "metadata": {
        "colab": {
          "base_uri": "https://localhost:8080/"
        },
        "id": "i3O2oRV8jCd7",
        "outputId": "cfc533e2-f27b-4b2d-99d9-2cce3698b370"
      },
      "execution_count": null,
      "outputs": [
        {
          "output_type": "execute_result",
          "data": {
            "text/plain": [
              "['TAX INVOICE\\nOriginal for Recipient\\nSAP India Private Limited\\n50, Mohebewala Industrial Area Saharanpur\\nDEHRADUN 248002\\nUttarakhand INDIA\\nSAVIC Technologies Private Limited\\nCIN : U72200KA1996PTC020063\\n803, B-Wing, 8th Floor, Great Eastern Summit,\\nPAN: AACCS7483E\\nPlot No. 66, Sector-15, C.B.D.Belapur\\nGSTIN : 05AACCS7483E1ZB\\nNAVI MUMBAI 400614\\nMaharashtra INDIA\\nPlace of Supply: Maharashtra\\nSAVIC Technologies Private Limited\\n803, B-Wing, 8th Floor, Great Eastern Summit,\\nNavi Mumbai400614\\nMaharashtra India\\nIRN No: 5a509f5fb0714793da6ec6f4518b9d692bcbc17b8da2943a9480458247d1e3e7\\nInvoice No. 6071278484 of 31.12.2022 5,619,047.62 INR\\nCustomer GSTIN: 27AAWCS9531R1Z1\\nCustomer PAN:\\nReverse Charge: Yes / No\\nPayment Mode: Bank\\nContract Number: 6265416\\nOrder No.: 1000155387\\nCMS Case ID 3062264234\\nLicensee : 996343, A.V.THOMAS & CO. LTD., , Cochin, India\\nIn accordance with the above order, we invoice you for SAP Standard software\\nItem Description Qty Amount\\n______________________________________________________________________________________________________________________________\\n000100 7018652 -S/4 Ent. Mgmt. Professional use 40 USR\\n000200 7020468 -SAP HANA, RT ed Applic & BW-new/subsq 1 PC\\n000300 7018653 -S/4 Ent. Mgmt. Productivity use 20 USR\\n______________________________________________________________________________________________________________________________\\nTotal net value 4,761,904.76 INR\\nIN: Integrated GST 18.000 % of 4,761,904.76 INR 857,142.86 INR\\nTotal 5,619,047.62 INR\\n____________________________________________________________________________________________________________________________________________________________________________________________________________\\n( Rupees Fifty six lakh nineteen thousand forty seven and Sixty two Paise Only )\\nHSN/SAC Code: 998434\\nPayment Terms: Within 30 days due net\\nPayee Name: SAP India Private Limited\\nPlease Remit Via RTGS / NEFT to :\\nCitibank N.A., 2nd floor,# 5 M.G.Road, Bangalore - 560 001.\\nA/c no. 6049001 for INR / 6049028 for USD & 6049036 for Euro.\\nSwift Code CITIINBXBLR / IFSC Code CITI0000004\\nThe Hong Kong & Shanghai Banking Corporation Limited.,\\nAddress No. 7, M.G. Road, Bangalore – 560 001.\\nAccount # 071- 105449-001\\nIFSC HSBC0560002\\nPage 1 of 2\\nRegd. Office : SAP India Private Limited , 6th floor, RMZ Ecoworld plot C1, 8A campus , Sarjapur-Marathahalli outer ring road, Devarabeesanahalli, Bangalore East Taluk, Bangalore –\\n560103. T+91 80 6665 5555, F+91 80 6665 5550 www.sap.com',\n",
              " 'Service Invoice\\nBill To: Invoice Number WS2310\\nInvoice Date 10.07.2023\\nSAVIC Technologies Pvt Ltd\\nGST Number 36AADFW12331ZF\\nAddress: 707, B-wing, 7th floor, Great Eastern Business Place 36-Telangana\\nSummit, Plot No. 66, Sector 15, CBD Belapur, Navi Contact Email Accounts@windsteller.com\\nMumbai – 400614 Reporting to Yuvraj\\nCustomer PO No 4500000074\\nPAN: AAWCS9531R\\nCustomer PO Date 12.01.2023\\nGST No: 27AAWCS9531R1Z1\\nS .No Description Quantity Net Price Net Value(INR)\\n1 Modern Bakary Fiori POS Development 50% After 1 1,60,000 1,60,000.00\\ncompleting GO-Live\\nNet Amount 1,60,000.00\\nIGST 18 % 28,800.00\\nTotal Amount 1,88,800.00/-\\nBank Account Details: Amount in Words: One Lakh eighty-eight thousand and eight hundred\\nrupees only/-\\nBank: HDFC Ameerpet, Hyderabad\\nAccount No:50200039253712\\nRemarks:\\nIFSC Code: HDFC0001627\\nWind Steller Technologies, 55/A 55/B, Vengal Rao Nagar, Hyderabad, Telangana, 500038,\\nPAN: AADFW1233G, www.windsteller.com',\n",
              " \"TAX INVOICE\\nREDINGTON LIMITED Invoice :C240397173 PAGE : 1\\nC/O.PROCONNECT SUPPLY CHAIN Our Order :5001063976 Date :15.08.2023 Time : 23:35:02\\nSOLUTION LTD\\nInvoice date :15.08.2023 Time :23:35:36\\nA3, BT INDUSTRIAL PARK,\\nYour Ref. :389318\\nSATHYAVEDU ROAD, SIRUPUZHALPET\\nPOST,\\nCustomer :W12480\\nTHIRUVALLUR DISTRICT\\nGST NO :27AAWCS9531R1Z1\\nCHENNAI - 601201\\nDef. Pmnt. :Out Station/ Credit days 30\\nTamil Nadu\\nCurrency :INR\\nGST : 33AABCR0347P1ZA\\nPlace of Supply :Maharashtra\\nStorage Location :\\nIRN Number : 7687ed31c01e67de345d784339033dc2086dc5752bb9b7bf7a27caf6c28e2192\\nBILL-TO: SHIP-TO:\\nSAVIC TECHNOLOGIES PRIVATE LIMITED SAVIC TECHNOLOGIES PRIVATE LIMITED\\nPLOT NO 66, OFFICE NO B-803-806, PLOT NO 66, OFFICE NO B-803-806,\\nGREAT EASTERN SUMMIT-B, GREAT EASTERN SUMMIT-B,\\nSECTOR-15, CBD BELAPUR, SECTOR-15, CBD BELAPUR,\\nNAVI MUMBAI NAVI MUMBAI\\nMUMBAI-400614 MUMBAI-400614\\nMaharashtra, Maharashtra\\nGSTIN: 27AAWCS9531R1Z1\\nITEM CODE/ITEM HSN/SAC QUANTITY UNIT PRICE SGST/UGST CGST IGST TOTAL WEIGHT\\nDESCRIPTION\\nAWS-MARKETPLACE AWS 998313 1.000 5947.99 0.00 0.00 1,070.64 5947.99 0.010\\nMARKETPLACE USAGE EA 0.00 0.00 18.00 7,018.63\\nAWS MARKETPLACE USAGE\\nVol Wt 0.000\\nNOTE: Interest rate against overdue payments mentioned in Clause.14 of this invoice stands revised to 24% per annum with effect from 01 December' 2018.\\nDECLARATION\\nCertified that all the particulars shown in the above invoice are true and correct based on information available with us . It is further certified that our Registration under\\nrelevant GST Act is valid as on date of the invoice\\nContact: SENTHIL KUMAR SUBRAMANIAM .\\nRemarks\\n883507983452_JUL2023_IPRingsLtd._$toINR-82.76000\\nInvoice value in Words: SEVEN THOUSAND EIGHTEEN RUPEES SIXTY THREE PAISE\\nTax Total 1,070.64\\n0.010\\nTotal before Tax 5,947.99\\nTax Total 1,070.64\\nTCS Total 0.00\\nInvoice Total 7,018.63\\nPAN: AABCR0347P CIN: L52599TN1961PLC028758 Web: www.redingtonindia.com\\nRegd.Office: Redington Limited,RS Nos. 27/2-A 27/4-A, 27/5 27/6, 27/7, 29/1-G, 29/1H,29/6-A, Block - 3, Plathin - Redington Tower Commercial,Inner Ring Road,\\nSaraswathy Nagar West, 4th Street, Puzhudhivakkam, Chennai - 600091, Tamil Nadu.TERMS AND CONDITIONS\\n1. Buyer shall mean the person/entity, who accepts/acknowledges these Terms with REDINGTON Limited, the Seller.\\n2. Cloud Services shall mean Cloud Software as a Service (SaaS), Cloud Platform as a Service (PaaS) and Cloud Infrastructure as a Service (IaaS) as subscribed by\\nthe Buyer as the case may be, invoiced by the Seller and governed by these terms.\\n3. The terms herein are the binding Contract between Seller and the Buyer and all orders placed by the Buyer with Seller shall be subject to the terms and conditions\\nhereinbelow. These terms shall prevail over all previous, contemporary communications exchanged between the parties, whether or not in writing including the\\nterms and conditions of invoices under which the Cloud Services were sold to the Buyer prior to the date hereof or Buyer#s Purchase order terms. The Buyer shall\\nnot be entitled to vary, amend, add or alter any of these conditions.\\n4. Every invoice shall be a binding contract between the Seller and Buyer on principal dealing with principal basis and shall be deemed conclusive on acceptance of\\nthe Cloud Services by/on behalf of the Buyer. The Buyer shall not in any event be deemed or construed to be an agent, contractor or representative of the Seller. This\\nContract shall be in addition to the terms of Dealership Registration Form/ Dealership Registration Agreement and other specific terms of respective Cloud Service\\nProvider as published on the Seller#s website/cloud portal.\\n5. Buyer shall ensure that Buyer and its customers comply with all anticorruption laws including but not limited to FCPA, UK Bribery Act, Prevention of Corruption\\nAct or any other country specific laws as applicable.\\n6. Buyer shall be responsible for payment of GST and all other duties/taxes as applicable to the sale. If at any time before or after receipt of Cloud Services by the\\nBuyer, any duty / tariff / tax or charge of whatsoever nature is imposed / increased by the Government of India or the State Government or any other Statutory\\nAuthority with retrospective effect, then the Buyer shall be liable to reimburse the Seller the difference in the tax to the extent of such increase in respect of the\\nsupplies made prior to such change to the extent of the new imposition or increase thereof.\\n7. The contract is subject to force majeure events which includes but is not limited to Act of God, fire, flood, war, public disaster, strike, governmental enactment,\\nrule or regulation or any other cause beyond the Seller#s control. Seller shall not be liable for delay in providing Cloud Services on account of such force majeure\\nevents. The Buyer shall not be entitled for any compensation, damages, loss under any circumstances even if the Seller is advised of such possibility earlier, whether\\nor not the time is the essence of the contract.\\n8. The Buyer shall provide necessary certificates against all statutory deductions made out of the payments paid to Seller, within ninety (90) days before the end of\\nthe quarter failing which Seller shall have the legal right to raise separate invoice on the Buyer against the amount so deducted. Any amount deducted shall be the\\nliability of the Buyer.\\n9. No dispute regarding the quantum of the Cloud Services can be raised without written notice to Seller within five (5) days of this invoice. In respect of any such\\ndispute relating to the quantum of the Cloud Services, the Buyer agrees to first make payment in full before raising such claim.\\n10. All payments for the Cloud Services shall be made by the Buyer at the Seller#s Registered Office at SPL Guindy House, 95 - Mount Road, Guindy, Chennai - 600\\n032 or existing Corporate Office. All payments made by cheques are subject to realization and if made by electronic mode (NACH etc.) payment would be subject to\\nreceipt of fund in Seller#s account. Buyer irrevocably undertakes not to hold payments due to the Seller on account of dispute between the Buyer and the Cloud\\nService Provider or a third party for whatever reason. Buyer shall pay interest @ 24% per annum or the maximum interest allowed under applicable laws for\\npayment made beyond the due date until the date of realization with the applicable taxes and penalties.\\n11. All bank charges in respect of the payment (including collection or cheque bouncing charges, return charges pursuant to dishonor of standing instructions) and\\nstamp duty on bills of exchange, hundies wherever applicable shall be paid by the Buyer under this invoice with GST as applicable to the account of the Buyer. The\\nSeller shall not be liable for any loss or theft of bank drafts, cheques etc. in transit.\\n12. Any notice or other documents shall be deemed to be validly served on the Buyer if sent by ordinary post/reputed courier to the known address of the Buyer or to\\nthe registered email address of the Buyer.\\n13. All and any dispute arising out of all or any terms of this Contract between the Parties herein shall be resolved through Arbitration. Either of the Parties may\\nnotify the dispute to the other party, enabling them to find an amicable settlement of the dispute within thirty (30) days of such notification. In the event if no\\namicable settlement is arrived within thirty (30) days as stated supra, either of the parties shall refer the dispute to Arbitration. M/s Redington (India) Ltd, shall\\nimmediately appoint a Sole Arbitrator within one (1) month of such reference of dispute to Arbitration. Buyer explicitly agrees and waives off any right to question\\nthe appointment of Arbitrator as above. Such proceedings shall be conducted in English language only and in accordance with the provisions of The Arbitration and\\nConciliation Act, 1996, as amended. The finding of the Sole Arbitrator shall be final and be binding on all the parties. The Venue will be as fixed by the Sole\\nArbitrator and the same will be binding on the parties. The Seat for the Arbitration shall be exclusively at Chennai. The governing laws shall be Indian laws and the\\nparties explicitly agree that all or any legal proceedings in connection with the Arbitration proceedings shall be subject to the exclusive Jurisdiction of Courts in\\nChennai alone. The Seller shall also have the right to initiate the appropriate civil/criminal proceedings including complaint u/s 138 of NI Act, as applicable.\\n14. It is acknowledged and confirmed that the Seller has the right to transfer or assign any of its rights arising out of these terms of contract/ invoice including\\nwithout limitation the right to transfer or assign the receivables to any third party, without having to secure any separate consent from the Buyer.\\n15. Buyer acknowledges that this is a contract for supply/fulfilment of Cloud Services and the Cloud Services so provided under these presents are being made\\navailable #AS IS# provided by the Cloud Service Provider or their respective Suppliers. Seller does not make any representation towards warranty or functionality\\nor quality or fitness for particular purpose in respect of the Cloud Services made available hereunder. All claims in relation to the Cloud Services shall be addressed\\nonly to the Cloud Service Provider.\\n16. The Buyer explicitly agrees not to hold the Seller responsible and liable for quantum, quality, functionality or defect in the Cloud Services provided hereunder\\nincluding intellectual property infringement claims such as patent, copyright and trademark infringement claims from the Buyer or a third party. Buyer undertakes\\nnot to use the patents, trademarks or trade names of Seller or the Cloud Service Providers without the prior written consent of the Seller.\\n17. Buyer shall ensure compliance of all applicable local laws relating to its business as well as other applicable foreign laws including the respective Cloud Service\\nProvider terms in respect of the Cloud Services availed by the Buyer. Buyer shall also ensure that the Buyer#s customers / end users comply with the above\\nrequirement. It is the responsibility of the Buyer to ascertain respective Cloud Service Provider terms on its/their own for the purpose of compliance and shall inform\\ntheir customers / end users of this requirement. Seller shall in no event be liable for an act of ignorance of applicable law by the Buyer or its customers.\\n18. Buyer hereby undertakes to comply with any import, re-import, export and re-export control laws or regulations that are applicable to Cloud Services and shall\\nnot under any circumstances, use, sell or cause to be sold through any third party, the Cloud Services for use in connection with chemical, biological, nuclear\\nweapons, mass destructive or in unauthorized applications or in a facility engaged in such activities, within or outside India and to customers who are prevented\\nfrom receiving the Cloud Services under any laws including U.S export regulations. The Buyer would also ensure that the Buyer#s customers are kept fully informed\\nof all such compliance requirements and make all efforts to ensure that the customers adhere to all the compliance requirements.\",\n",
              " \"TAX INVOICE\\nORIGINAL FOR RECEIPENT\\nESDS Software Solution Ltd.\\nAddress: Plot No. B- 24 & 25, NICE Industrial Area, Satpur MIDC,\\nNashik 422 007.\\nState : Maharashtra, State Code : 27\\nTax Invoice No: FY2324EI15880\\nReference No: PO No. 3000045 Dt.29/10/2021\\nTax Invoice Date: 31/07/2023\\nDue Date: 05/08/2023\\nInvoice Status: UNPAID\\nProforma Invoice No: E123093\\nUNPAID\\nInvoiced To: Pay To:\\nM/S Savic Technologies Private Limited Bank Name : Axis Bank Ltd.\\nAttn: venu r A/C Name : ESDS Software Solution Ltd.\\nB-803, The great eastern summit Bank A/C Number : 918030109668405\\nSec-15 IFS Code : UTIB0001636\\nNavi Mumbai, Maharashtra, 400614 (cid:13)(cid:10)SWIFT Code : AXISINBBA07\\nIndia (cid:13)(cid:10)Bank Address : 214, 215 City Mall, 2nd Floor, Plot No 1,\\n(cid:13)(cid:10)Ganesh Khind (University) Road, Pune 411007\\nPAN : AABCE4981A GSTIN : 27AABCE4981A1ZV\\nPAN : AAWCS9531R GSTIN : 27AAWCS9531R1Z1\\nDescription Amount\\nManaged Hosting Services : (06/06/2023 - 05/07/2023)(cid:13) Rs.5,400.00\\nManaged Services : Operating System Management Services - 0 Inst.(cid:13)\\nManaged Services : Storage Management Services - 1 Job(cid:13)\\nManaged Services : Firewall Management Services as per ESDS' standard\\nSOW - 1 Inst.(cid:13)\\nManaged Services : Backup Management Services as per ESDS' standard\\nSOW(cid:9)- 1 Job(cid:13)\\nManaged Services : 5 : eMagic Basic Monitoring for VMs, Ports &amp;\\nFirewall - 3 No.\\nSAC: 998315\\nPublic IPs - 1 No. (06/06/2023 - 05/07/2023)(cid:13) Rs.600.00\\nSAC: 998315\\nvFirewall - Dedicated vFirewall with 1Gbps Throughput (2 Ipsec &amp; Rs.8,500.00\\n100 SSL VPN included) (cid:9)1 No. (06/06/2023 - 05/07/2023)(cid:13)\\nSAC: 998315\\nWindows Static Cloud - Rs.5,690.00NDV-1&gt;&gt;10.48.108.13#MDC-ENTSAP(10.12.8.53) (06/06/2023 -\\n05/07/2023)(cid:13)\\nCPU : 6 vCores(cid:13)\\nRAM : 32 GB(cid:13)\\nHDD : High Performance High Performance Storage: 100 GBStorage: 1580\\nGB(cid:13)\\nOS : Windows 2019 STD Edition\\nSAC: 998315\\nWindows Static Cloud - TBQA&gt;&gt;10.48.108.14#MDC-ENTSAP(10.12.8.53) Rs.7,094.00\\n(06/06/2023 - 05/07/2023)(cid:13)\\nCPU : 6 vCores(cid:13)\\nRAM : 32 GB(cid:13)\\nHDD : High Performance Storage: 2048 GB(cid:13)\\nOS : Windows 2019 STD Edition\\nSAC: 998315\\nBandwidth - Unmetered Internet Bandwidth - 10 Mbps (06/06/2023 - Rs.5,000.00\\n05/07/2023)\\nSAC: 998315\\nOS License - Windows Server 2019 Std.(cid:9)- 6 Nos. (06/06/2023 - Rs.2,250.00\\n05/07/2023)(cid:13)\\nSAC: 998315\\nSub Total: Rs.34,534.00\\nCGST@9% : Rs.3,108.06\\nSGST@9% : Rs.3,108.06\\nTotal: Rs.40,750.12\\nAmount to be Paid: Rs.40,750.00\\nAmount to be Paid (in words):\\nIndian Rupees Forty Thousands Seven Hundred And Fifty Only\\nNotes: IRN No. : 03aaf47a3edbc04bd6eecfa998d344f58ee869973d1aa1733431df52e5147490\\nAck No. : 122317612552285 Ack Date : 2023-07-31 22:05:00\\nTERMS OF INVOICE\\nThe terms and conditions mentioned herein below will survive and will be binding unless contrary is agreed in writing by and between the parties in\\nlieu of Service Level Agreement or any other agreement in force.\\n01. No back-to-back payment terms are acceptable and payment shall be made within the agreed payment terms, from the date of receipt of this\\ninvoice.\"]"
            ]
          },
          "metadata": {},
          "execution_count": 10
        }
      ]
    },
    {
      "cell_type": "code",
      "source": [
        "structured_text = [\n",
        "    \"Invoice :C240397173 Invoice Date:15.08.2023 Bill-To: SAVIC TECHNOLOGIES PRIVATE LIMITED PLOT NO 66, OFFICE NO B-803-806, GREAT EASTERN SUMMIT-B, SECTOR-15, CBD BELAPUR, NAVI MUMBAI MUMBAI-400614 Maharashtra Total:1,070.64 \",\n",
        "    \"Invoice :FY2324EI15880 Invoice Date:31/07/2023 Bill-To: M/S Savic Technologies Private Limited Attn: venu r B-803, The great eastern summit Sec-15 Navi Mumbai, Maharashtra, 400614 India Total:40,750.12 \",\n",
        "    \"Invoice :6071278484 Invoice Date:31.12.2022 Bill-To: SAVIC Technologies Private Limited 803, B-Wing, 8th Floor, Great Eastern Summit, Plot No. 66, Sector-15, C.B.D.Belapur NAVI MUMBAI 400614 Maharashtra INDIA Total:5,619,047.62 \",\n",
        "    \"Invoice :WS2310 Invoice Date:10.07.2023 Bill-To: SAVIC Technologies Pvt Ltd Address: 707, B-wing, 7th floor, Great Eastern  Summit, Plot No. 66, Sector 15, CBD Belapur, Navi  Mumbai – 400614  PAN: AAWCS9531R  GST No: 27AAWCS9531R1Z1 Total:1,88,800.00 \",\n",
        "]"
      ],
      "metadata": {
        "id": "Xk64nTdJFD5o"
      },
      "execution_count": null,
      "outputs": []
    },
    {
      "cell_type": "code",
      "source": [
        "tokenizer = Tokenizer()\n",
        "tokenizer.fit_on_texts(text_extracted + structured_text)\n",
        "text_sequences = tokenizer.texts_to_sequences(text_extracted)\n",
        "structured_sequences = tokenizer.texts_to_sequences(structured_text)\n",
        "X = pad_sequences(text_sequences)\n",
        "y = pad_sequences(structured_sequences)"
      ],
      "metadata": {
        "id": "o04aNDOBFOIc"
      },
      "execution_count": null,
      "outputs": []
    },
    {
      "cell_type": "code",
      "source": [
        "input_layer = Input(shape=(X.shape[1],))\n",
        "embedding_layer = Embedding(input_dim=len(tokenizer.word_index) + 1, output_dim=128)(input_layer)\n",
        "bi_lstm_output = Bidirectional(LSTM(64, return_sequences=True))(embedding_layer)\n",
        "flattened_bi_lstm_output = Flatten()(bi_lstm_output)\n",
        "output_layer = Dense(43, activation='softmax')(flattened_bi_lstm_output)\n",
        "model = Model(inputs=input_layer, outputs=output_layer)"
      ],
      "metadata": {
        "id": "1ii7wrtXLxFL"
      },
      "execution_count": null,
      "outputs": []
    },
    {
      "cell_type": "code",
      "source": [
        "model.compile(loss='categorical_crossentropy', optimizer='adam')"
      ],
      "metadata": {
        "id": "m1RI7QttFmvA"
      },
      "execution_count": null,
      "outputs": []
    },
    {
      "cell_type": "code",
      "source": [
        "model.fit(X, y, epochs=10, batch_size=32)"
      ],
      "metadata": {
        "id": "dKfuDtz0Fqot",
        "colab": {
          "base_uri": "https://localhost:8080/"
        },
        "outputId": "25d45bd0-bbda-4097-94e9-cdaa1c20f479"
      },
      "execution_count": null,
      "outputs": [
        {
          "output_type": "stream",
          "name": "stdout",
          "text": [
            "Epoch 1/10\n",
            "1/1 [==============================] - 10s 10s/step - loss: 12216.8232\n",
            "Epoch 2/10\n",
            "1/1 [==============================] - 3s 3s/step - loss: 11651.9102\n",
            "Epoch 3/10\n",
            "1/1 [==============================] - 3s 3s/step - loss: 11445.6064\n",
            "Epoch 4/10\n",
            "1/1 [==============================] - 2s 2s/step - loss: 11523.1338\n",
            "Epoch 5/10\n",
            "1/1 [==============================] - 3s 3s/step - loss: 11790.6455\n",
            "Epoch 6/10\n",
            "1/1 [==============================] - 4s 4s/step - loss: 12321.2832\n",
            "Epoch 7/10\n",
            "1/1 [==============================] - 3s 3s/step - loss: 13315.7051\n",
            "Epoch 8/10\n",
            "1/1 [==============================] - 3s 3s/step - loss: 15004.2490\n",
            "Epoch 9/10\n",
            "1/1 [==============================] - 3s 3s/step - loss: 17749.9727\n",
            "Epoch 10/10\n",
            "1/1 [==============================] - 3s 3s/step - loss: 22080.6133\n"
          ]
        },
        {
          "output_type": "execute_result",
          "data": {
            "text/plain": [
              "<keras.src.callbacks.History at 0x78b46f634eb0>"
            ]
          },
          "metadata": {},
          "execution_count": 15
        }
      ]
    },
    {
      "cell_type": "code",
      "source": [
        "pdf_path_test = \"/content/drive/MyDrive/invoice test/Sample Invoice (5).pdf\""
      ],
      "metadata": {
        "id": "MaJXwYnARSWS"
      },
      "execution_count": null,
      "outputs": []
    },
    {
      "cell_type": "code",
      "source": [
        "new_text = []\n",
        "text_ex = extract_text(pdf_path)\n",
        "new_text.append(text_ex)"
      ],
      "metadata": {
        "id": "6b7mvNVORrbM"
      },
      "execution_count": null,
      "outputs": []
    },
    {
      "cell_type": "code",
      "source": [
        "new_text_sequences = tokenizer.texts_to_sequences(new_text)\n",
        "new_X = pad_sequences(new_text_sequences, maxlen=X.shape[1])\n",
        "predicted_structured_sequences = model.predict(new_X)"
      ],
      "metadata": {
        "id": "dwD5GLmbFtDt",
        "colab": {
          "base_uri": "https://localhost:8080/"
        },
        "outputId": "9357f20d-b0ce-4b57-e85c-95281554067a"
      },
      "execution_count": null,
      "outputs": [
        {
          "output_type": "stream",
          "name": "stdout",
          "text": [
            "1/1 [==============================] - 2s 2s/step\n"
          ]
        }
      ]
    },
    {
      "cell_type": "code",
      "source": [
        "predicted_structured_data = [tokenizer.sequences_to_texts([seq])[0] for seq in predicted_structured_sequences]"
      ],
      "metadata": {
        "id": "pwHtMehvFvvW"
      },
      "execution_count": null,
      "outputs": []
    },
    {
      "cell_type": "code",
      "source": [
        "predicted_structured_data"
      ],
      "metadata": {
        "id": "BYZPkijNF03E",
        "colab": {
          "base_uri": "https://localhost:8080/"
        },
        "outputId": "a0c13c4e-1783-4b31-deeb-0d4ce4790d9e"
      },
      "execution_count": null,
      "outputs": [
        {
          "output_type": "execute_result",
          "data": {
            "text/plain": [
              "[\"TAX INVOICE\\nORIGINAL FOR RECEIPENT\\nESDS Software Solution Ltd.\\nAddress: Plot No. B- 24 & 25, NICE Industrial Area, Satpur MIDC,\\nNashik 422 007.\\nState : Maharashtra, State Code : 27\\nTax Invoice No: FY2324EI15880\\nReference No: PO No. 3000045 Dt.29/10/2021\\nTax Invoice Date: 31/07/2023\\nDue Date: 05/08/2023\\nInvoice Status: UNPAID\\nProforma Invoice No: E123093\\nUNPAID\\nInvoiced To: Pay To:\\nM/S Savic Technologies Private Limited Bank Name : Axis Bank Ltd.\\nAttn: venu r A/C Name : ESDS Software Solution Ltd.\\nB-803, The great eastern summit Bank A/C Number : 918030109668405\\nSec-15 IFS Code : UTIB0001636\\nNavi Mumbai, Maharashtra, 400614 (cid:13)(cid:10)SWIFT Code : AXISINBBA07\\nIndia (cid:13)(cid:10)Bank Address : 214, 215 City Mall, 2nd Floor, Plot No 1,\\n(cid:13)(cid:10)Ganesh Khind (University) Road, Pune 411007\\nPAN : AABCE4981A GSTIN : 27AABCE4981A1ZV\\nPAN : AAWCS9531R GSTIN : 27AAWCS9531R1Z1\\nDescription Amount\\nManaged Hosting Services : (06/06/2023 - 05/07/2023)(cid:13) Rs.5,400.00\\nManaged Services : Operating System Management Services - 0 Inst.(cid:13)\\nManaged Services : Storage Management Services - 1 Job(cid:13)\\nManaged Services : Firewall Management Services as per ESDS' standard\\nSOW - 1 Inst.(cid:13)\\nManaged Services : Backup Management Services as per ESDS' standard\\nSOW(cid:9)- 1 Job(cid:13)\\nManaged Services : 5 : eMagic Basic Monitoring for VMs, Ports &amp;\\nFirewall - 3 No.\\nSAC: 998315\\nPublic IPs - 1 No. (06/06/2023 - 05/07/2023)(cid:13) Rs.600.00\\nSAC: 998315\\nvFirewall - Dedicated vFirewall with 1Gbps Throughput (2 Ipsec &amp; Rs.8,500.00\\n100 SSL VPN included) (cid:9)1 No. (06/06/2023 - 05/07/2023)(cid:13)\\nSAC: 998315\\nWindows Static Cloud - Rs.5,690.00NDV-1&gt;&gt;10.48.108.13#MDC-ENTSAP(10.12.8.53) (06/06/2023 -\\n05/07/2023)(cid:13)\\nCPU : 6 vCores(cid:13)\\nRAM : 32 GB(cid:13)\\nHDD : High Performance High Performance Storage: 100 GBStorage: 1580\\nGB(cid:13)\\nOS : Windows 2019 STD Edition\\nSAC: 998315\\nWindows Static Cloud - TBQA&gt;&gt;10.48.108.14#MDC-ENTSAP(10.12.8.53) Rs.7,094.00\\n(06/06/2023 - 05/07/2023)(cid:13)\\nCPU : 6 vCores(cid:13)\\nRAM : 32 GB(cid:13)\\nHDD : High Performance Storage: 2048 GB(cid:13)\\nOS : Windows 2019 STD Edition\\nSAC: 998315\\nBandwidth - Unmetered Internet Bandwidth - 10 Mbps (06/06/2023 - Rs.5,000.00\\n05/07/2023)\\nSAC: 998315\\nOS License - Windows Server 2019 Std.(cid:9)- 6 Nos. (06/06/2023 - Rs.2,250.00\\n05/07/2023)(cid:13)\\nSAC: 998315\\nSub Total: Rs.34,534.00\\nCGST@9% : Rs.3,108.06\\nSGST@9% : Rs.3,108.06\\nTotal: Rs.40,750.12\\nAmount to be Paid: Rs.40,750.00\\nAmount to be Paid (in words):\\nIndian Rupees Forty Thousands Seven Hundred And Fifty Only\\nNotes: IRN No. : 03aaf47a3edbc04bd6eecfa998d344f58ee869973d1aa1733431df52e5147490\\nAck No. : 122317612552285 Ack Date : 2023-07-31 22:05:00\\nTERMS OF INVOICE\\nThe terms and conditions mentioned herein below will survive and will be binding unless contrary is agreed in writing by and between the parties in\\nlieu of Service Level Agreement or any other agreement in force.\\n01. No back-to-back payment terms are acceptable and payment shall be made within the agreed payment terms, from the date of receipt of this\\ninvoice.\"]"
            ]
          },
          "metadata": {},
          "execution_count": 21
        }
      ]
    }
  ]
}