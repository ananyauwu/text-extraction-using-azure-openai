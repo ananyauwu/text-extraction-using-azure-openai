{
  "nbformat": 4,
  "nbformat_minor": 0,
  "metadata": {
    "colab": {
      "provenance": []
    },
    "kernelspec": {
      "name": "python3",
      "display_name": "Python 3"
    },
    "language_info": {
      "name": "python"
    }
  },
  "cells": [
    {
      "cell_type": "code",
      "execution_count": null,
      "metadata": {
        "id": "FG6Q3cBkFhfw",
        "colab": {
          "base_uri": "https://localhost:8080/"
        },
        "outputId": "78e6e70a-3b97-41ae-bf4a-28ff5eeb0b9d"
      },
      "outputs": [
        {
          "output_type": "stream",
          "name": "stdout",
          "text": [
            "Collecting pdfplumber\n",
            "  Downloading pdfplumber-0.10.2-py3-none-any.whl (47 kB)\n",
            "\u001b[?25l     \u001b[90m━━━━━━━━━━━━━━━━━━━━━━━━━━━━━━━━━━━━━━━━\u001b[0m \u001b[32m0.0/47.5 kB\u001b[0m \u001b[31m?\u001b[0m eta \u001b[36m-:--:--\u001b[0m\r\u001b[2K     \u001b[90m━━━━━━━━━━━━━━━━━━━━━━━━━━━━━━━━━━━━━━━━\u001b[0m \u001b[32m47.5/47.5 kB\u001b[0m \u001b[31m1.4 MB/s\u001b[0m eta \u001b[36m0:00:00\u001b[0m\n",
            "\u001b[?25hCollecting pdfminer.six==20221105 (from pdfplumber)\n",
            "  Downloading pdfminer.six-20221105-py3-none-any.whl (5.6 MB)\n",
            "\u001b[2K     \u001b[90m━━━━━━━━━━━━━━━━━━━━━━━━━━━━━━━━━━━━━━━━\u001b[0m \u001b[32m5.6/5.6 MB\u001b[0m \u001b[31m48.0 MB/s\u001b[0m eta \u001b[36m0:00:00\u001b[0m\n",
            "\u001b[?25hRequirement already satisfied: Pillow>=9.1 in /usr/local/lib/python3.10/dist-packages (from pdfplumber) (9.4.0)\n",
            "Collecting pypdfium2>=4.18.0 (from pdfplumber)\n",
            "  Downloading pypdfium2-4.20.0-py3-none-manylinux_2_17_x86_64.whl (3.0 MB)\n",
            "\u001b[2K     \u001b[90m━━━━━━━━━━━━━━━━━━━━━━━━━━━━━━━━━━━━━━━━\u001b[0m \u001b[32m3.0/3.0 MB\u001b[0m \u001b[31m95.5 MB/s\u001b[0m eta \u001b[36m0:00:00\u001b[0m\n",
            "\u001b[?25hRequirement already satisfied: charset-normalizer>=2.0.0 in /usr/local/lib/python3.10/dist-packages (from pdfminer.six==20221105->pdfplumber) (3.2.0)\n",
            "Requirement already satisfied: cryptography>=36.0.0 in /usr/local/lib/python3.10/dist-packages (from pdfminer.six==20221105->pdfplumber) (41.0.3)\n",
            "Requirement already satisfied: cffi>=1.12 in /usr/local/lib/python3.10/dist-packages (from cryptography>=36.0.0->pdfminer.six==20221105->pdfplumber) (1.15.1)\n",
            "Requirement already satisfied: pycparser in /usr/local/lib/python3.10/dist-packages (from cffi>=1.12->cryptography>=36.0.0->pdfminer.six==20221105->pdfplumber) (2.21)\n",
            "Installing collected packages: pypdfium2, pdfminer.six, pdfplumber\n",
            "Successfully installed pdfminer.six-20221105 pdfplumber-0.10.2 pypdfium2-4.20.0\n"
          ]
        }
      ],
      "source": [
        "!pip install pdfplumber"
      ]
    },
    {
      "cell_type": "code",
      "source": [
        "import os\n",
        "import pdfplumber"
      ],
      "metadata": {
        "id": "7CENVPSGGZls"
      },
      "execution_count": null,
      "outputs": []
    },
    {
      "cell_type": "code",
      "source": [
        "!pip install openai"
      ],
      "metadata": {
        "colab": {
          "base_uri": "https://localhost:8080/"
        },
        "id": "7b1dFu7AGiN6",
        "outputId": "467720e5-f71f-4c81-a52e-7280316c821a"
      },
      "execution_count": null,
      "outputs": [
        {
          "output_type": "stream",
          "name": "stdout",
          "text": [
            "Collecting openai\n",
            "  Downloading openai-0.28.1-py3-none-any.whl (76 kB)\n",
            "\u001b[2K     \u001b[90m━━━━━━━━━━━━━━━━━━━━━━━━━━━━━━━━━━━━━━━━\u001b[0m \u001b[32m77.0/77.0 kB\u001b[0m \u001b[31m1.5 MB/s\u001b[0m eta \u001b[36m0:00:00\u001b[0m\n",
            "\u001b[?25hRequirement already satisfied: requests>=2.20 in /usr/local/lib/python3.10/dist-packages (from openai) (2.31.0)\n",
            "Requirement already satisfied: tqdm in /usr/local/lib/python3.10/dist-packages (from openai) (4.66.1)\n",
            "Requirement already satisfied: aiohttp in /usr/local/lib/python3.10/dist-packages (from openai) (3.8.5)\n",
            "Requirement already satisfied: charset-normalizer<4,>=2 in /usr/local/lib/python3.10/dist-packages (from requests>=2.20->openai) (3.2.0)\n",
            "Requirement already satisfied: idna<4,>=2.5 in /usr/local/lib/python3.10/dist-packages (from requests>=2.20->openai) (3.4)\n",
            "Requirement already satisfied: urllib3<3,>=1.21.1 in /usr/local/lib/python3.10/dist-packages (from requests>=2.20->openai) (2.0.4)\n",
            "Requirement already satisfied: certifi>=2017.4.17 in /usr/local/lib/python3.10/dist-packages (from requests>=2.20->openai) (2023.7.22)\n",
            "Requirement already satisfied: attrs>=17.3.0 in /usr/local/lib/python3.10/dist-packages (from aiohttp->openai) (23.1.0)\n",
            "Requirement already satisfied: multidict<7.0,>=4.5 in /usr/local/lib/python3.10/dist-packages (from aiohttp->openai) (6.0.4)\n",
            "Requirement already satisfied: async-timeout<5.0,>=4.0.0a3 in /usr/local/lib/python3.10/dist-packages (from aiohttp->openai) (4.0.3)\n",
            "Requirement already satisfied: yarl<2.0,>=1.0 in /usr/local/lib/python3.10/dist-packages (from aiohttp->openai) (1.9.2)\n",
            "Requirement already satisfied: frozenlist>=1.1.1 in /usr/local/lib/python3.10/dist-packages (from aiohttp->openai) (1.4.0)\n",
            "Requirement already satisfied: aiosignal>=1.1.2 in /usr/local/lib/python3.10/dist-packages (from aiohttp->openai) (1.3.1)\n",
            "Installing collected packages: openai\n",
            "Successfully installed openai-0.28.1\n"
          ]
        }
      ]
    },
    {
      "cell_type": "code",
      "source": [
        "import openai"
      ],
      "metadata": {
        "id": "4GLTiCrUGlQu"
      },
      "execution_count": null,
      "outputs": []
    },
    {
      "cell_type": "code",
      "source": [
        "pdf_folder= '/content/drive/MyDrive/invoices'"
      ],
      "metadata": {
        "id": "CHIUuKKEGnTF"
      },
      "execution_count": null,
      "outputs": []
    },
    {
      "cell_type": "code",
      "source": [
        "def clean_text(text):\n",
        "  text = text.replace(\"\\n\", \" \").strip()\n",
        "  return text"
      ],
      "metadata": {
        "id": "fqVYHIdbGzP_"
      },
      "execution_count": null,
      "outputs": []
    },
    {
      "cell_type": "code",
      "source": [
        "pdf_path = '/content/drive/MyDrive/invoices/Sample_Invoice_(2).pdf'"
      ],
      "metadata": {
        "id": "QtviGVcOIoEf"
      },
      "execution_count": null,
      "outputs": []
    },
    {
      "cell_type": "code",
      "source": [
        "openai.api_type = \"azure\"\n",
        "openai.api_base = \"<api url>\"\n",
        "openai.api_version = \"<api version>\"\n",
        "openai.api_key = \"<api key>\""
      ],
      "metadata": {
        "id": "O_k4oDHSMsMw"
      },
      "execution_count": null,
      "outputs": []
    },
    {
      "cell_type": "code",
      "source": [
        "text=\"\"\n",
        "with pdfplumber.open(pdf_path) as pdf:\n",
        "  for page in pdf.pages:\n",
        "    page_text = page.extract_text()\n",
        "    if \"terms\" in page_text.lower():\n",
        "      text +=page_text\n",
        "      break\n",
        "    text += page_text\n",
        "processed_text = clean_text(text)"
      ],
      "metadata": {
        "id": "keFM4fpDNOwZ"
      },
      "execution_count": null,
      "outputs": []
    },
    {
      "cell_type": "code",
      "source": [
        "text=\"\"\n",
        "with pdfplumber.open(pdf_path) as pdf:\n",
        "  first_page = pdf.pages[0]\n",
        "  text += first_page.extract_text()\n",
        "response = openai.Completion.create(engine=\"res\", prompt = text, temperature=0.7,  max_tokens=350, top_p=1, frequency_penalty=0, presence_penalty=0, stop=None)\n",
        "summary = response.choices[0].text.strip()\n",
        "print(summary)"
      ],
      "metadata": {
        "colab": {
          "base_uri": "https://localhost:8080/"
        },
        "id": "0cUpkeb_G9qu",
        "outputId": "ad435190-fdd8-4d0a-bf2e-1bebe63152d3"
      },
      "execution_count": null,
      "outputs": [
        {
          "output_type": "stream",
          "name": "stdout",
          "text": [
            "4vCPU(s), 8GB RAM, 50GB SSD, 1 Public IPs, 1 Static IP\n",
            "(06/06/2023 - 05/07/2023)\n",
            "SAC: 998315\n",
            "18% IGST : Rs.4,802.16\n",
            "Sub-Total : Rs.24,992.16\n",
            "Total : Rs.29,594.16\n",
            "Payment Terms: Payment should be credited in our aforesaid bank account. The due date of payment is the date of receipt of goods/services and the interest shall be charged @ 18% p.a. for the period of delay in payment. Our\n",
            "bank details are given above.\n",
            "Bank Charges: Any bank charges in respect of payment to this invoice are to be borne by the buyer.\n",
            "For ESDS Software Solution Ltd.\n",
            "Authorised Signatory\n",
            "This is a system generated invoice and hence does not require signature or stamp.\n",
            "This is a computer generated invoice and does not require signature.\n",
            "Page 1 of 1\n",
            "\f\n",
            "\n",
            "INVOICE\n",
            "TAX INVOICE\n",
            "ORIGINAL FOR RECEIPENT\n",
            "ESDS Software Solution Ltd.\n",
            "Address: Plot No. B- 24 & 25, NICE Industrial Area, Satpur MIDC,\n",
            "Nashik 422 007.\n",
            "State : Maharashtra, State Code : 27\n",
            "Tax Invoice No: FY2324EI15881\n",
            "Reference No: PO No. 3000045 Dt.29/10/2021\n",
            "Tax Invoice Date: 31/07/2023\n",
            "Due Date: 05/08/2023\n",
            "Invoice Status: UNPAID\n",
            "Proforma Invoice No: E123094\n",
            "UNPAID\n",
            "Invoiced To\n"
          ]
        }
      ]
    }
  ]
}